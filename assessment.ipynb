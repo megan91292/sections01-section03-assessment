{
 "cells": [
  {
   "cell_type": "markdown",
   "metadata": {},
   "source": [
    "# Necessary Goals\n",
    "You will\n",
    "- Section01\n",
    "    - a. create a word counts dictionary\n",
    "    - b. find most common word\n",
    "- Section02\n",
    "    - a. calculate the mean and standard deviation of the word counts\n",
    "- Section03\n",
    "    - write a function that takes in a parameter to complete a task\n",
    "    - write a function that takes in multiple parameters to complete a task\n",
    "\n",
    "# Level Up Goals\n",
    "- write a function that solves a particular logical task\n",
    "- write a lambda function to complete a task"
   ]
  },
  {
   "cell_type": "code",
   "execution_count": 1,
   "metadata": {},
   "outputs": [
    {
     "data": {
      "text/plain": [
       "<module 'solutions.solutions' from '/Users/meganlyons/flatiron/Assessment/sections01-section03-assessment/solutions/solutions.py'>"
      ]
     },
     "execution_count": 1,
     "metadata": {},
     "output_type": "execute_result"
    }
   ],
   "source": [
    "# just run this cell\n",
    "from importlib import reload\n",
    "import solutions.solutions as sol\n",
    "reload(sol)"
   ]
  },
  {
   "cell_type": "markdown",
   "metadata": {},
   "source": [
    "# Section 01: Strings\n",
    "Using the variable `lyrics` below, please solve the following questions"
   ]
  },
  {
   "cell_type": "code",
   "execution_count": 2,
   "metadata": {},
   "outputs": [
    {
     "data": {
      "text/plain": [
       "\"She'll only come out at nights\\nThe lean and hungry type\\nNothing is new\\nI've seen her here before\\nWatching and waiting\\nOoh, she's sittin' with you\\nBut her eyes are on the door\\n\\nSo many have paid to see\\nWhat you think\\nYou're gettin' for free\\nThe woman is wild\\nA she-cat tamed\\nBy the purr of a Jaguar\\nMoney's the matter\\nIf you're in it for love\\nYou ain't gonna get too far\\n\\n(Oh-oh, here she comes)\\nWatch out boy\\nShe'll chew you up\\n(Oh-oh, here she comes)\\nShe's a maneater\\n(Oh-oh, here she comes)\\nWatch out boy\\nShe'll chew you up\\n(Oh-oh, here she comes)\\nShe's a maneater\\n\\nI wouldn't if I were you\\nI know what she can do\\nShe's deadly man\\nAnd she could really rip your world apart\\nMind over matter\\nOoh, the beauty is there\\nBut a beast is in the heart\\n\\n(Oh-oh, here she comes)\\nWatch out boy\\nShe'll chew you up\\n(Oh-oh, here she comes)\\nShe's a maneater\\n(Oh-oh, here she comes)\\nWatch out boy\\nShe'll chew you up\\n(Oh-oh, here she comes)\\nShe's a maneater\\n\\n[Instrumental Interlude]\\n\\nOoooooooh\\n(Oh-oh, here she comes)\\nHere she comes\\nWatch out boy\\nShe'll chew you up\\n(Whoa-oh, here she comes\\n(Watch out) she's a maneater\\n(Oh-oh, here she comes)\\n(She's a maneater)\\nOoh, she'll chew you up\\n(Oh-oh, here she comes)\\nHere she comes, she's a maneater\\n(Oh-oh, here she comes)\\n(Watch out)\\nShe'll only come out at night, ooh-oh\\n(Oh-oh, here she comes)\\nHere she comes\\nShe's a maneater\\n(Oh-oh, here she comes)\\n(She's a maneater)\\nThe woman is wild, whoooa\\n(Oh-oh, here she comes)\\nHere she comes\\nWatch out boy, watch out boy\\n(Oh-oh, here she comes)\\nOh, watch out, watch out\\nWatch out, watch out\\n(Oh-oh, here she comes)\\n(Yeah, yeah) she's a maneater\\n(Oh-oh, here she comes)\\n(She's a maneater)\\nShe's watching and waiting, ooh-oh\\n(Oh-oh, here she comes)\\nOh, she's a maneater\""
      ]
     },
     "execution_count": 2,
     "metadata": {},
     "output_type": "execute_result"
    }
   ],
   "source": [
    "# this cell will just load and open the lyrics\n",
    "# just run this cell\n",
    "with open(\"data/lyrics.txt\", \"r\") as f:\n",
    "    lyrics = f.read()\n",
    "lyrics"
   ]
  },
  {
   "cell_type": "markdown",
   "metadata": {},
   "source": [
    "## S01 - Part A\n",
    "create a dictionary called `word_counter` that counts the number of words in `lyrics`.\n",
    "- remove all puntuation using `string punctuation`\n",
    "- lowercase the entire string\n",
    "- split by `\" \"`"
   ]
  },
  {
   "cell_type": "code",
   "execution_count": 24,
   "metadata": {},
   "outputs": [
    {
     "data": {
      "text/plain": [
       "{'shell': 8,\n",
       " 'only': 2,\n",
       " 'come': 2,\n",
       " 'out': 15,\n",
       " 'at': 2,\n",
       " 'nights': 1,\n",
       " 'the': 8,\n",
       " 'lean': 1,\n",
       " 'and': 4,\n",
       " 'hungry': 1,\n",
       " 'type': 1,\n",
       " 'nothing': 1,\n",
       " 'is': 5,\n",
       " 'new': 1,\n",
       " 'ive': 1,\n",
       " 'seen': 1,\n",
       " 'her': 2,\n",
       " 'here': 25,\n",
       " 'before': 1,\n",
       " 'watching': 2,\n",
       " 'waiting': 2,\n",
       " 'ooh': 3,\n",
       " 'shes': 15,\n",
       " 'sittin': 1,\n",
       " 'with': 1,\n",
       " 'you': 10,\n",
       " 'but': 2,\n",
       " 'eyes': 1,\n",
       " 'are': 1,\n",
       " 'on': 1,\n",
       " 'door': 1,\n",
       " '': 6,\n",
       " 'so': 1,\n",
       " 'many': 1,\n",
       " 'have': 1,\n",
       " 'paid': 1,\n",
       " 'to': 1,\n",
       " 'see': 1,\n",
       " 'what': 2,\n",
       " 'think': 1,\n",
       " 'youre': 2,\n",
       " 'gettin': 1,\n",
       " 'for': 2,\n",
       " 'free': 1,\n",
       " 'woman': 2,\n",
       " 'wild': 2,\n",
       " 'a': 15,\n",
       " 'shecat': 1,\n",
       " 'tamed': 1,\n",
       " 'by': 1,\n",
       " 'purr': 1,\n",
       " 'of': 1,\n",
       " 'jaguar': 1,\n",
       " 'moneys': 1,\n",
       " 'matter': 2,\n",
       " 'if': 2,\n",
       " 'in': 2,\n",
       " 'it': 1,\n",
       " 'love': 1,\n",
       " 'aint': 1,\n",
       " 'gonna': 1,\n",
       " 'get': 1,\n",
       " 'too': 1,\n",
       " 'far': 1,\n",
       " 'ohoh': 19,\n",
       " 'she': 26,\n",
       " 'comes': 24,\n",
       " 'watch': 13,\n",
       " 'boy': 7,\n",
       " 'chew': 6,\n",
       " 'up': 6,\n",
       " 'maneater': 12,\n",
       " 'i': 3,\n",
       " 'wouldnt': 1,\n",
       " 'were': 1,\n",
       " 'know': 1,\n",
       " 'can': 1,\n",
       " 'do': 1,\n",
       " 'deadly': 1,\n",
       " 'man': 1,\n",
       " 'could': 1,\n",
       " 'really': 1,\n",
       " 'rip': 1,\n",
       " 'your': 1,\n",
       " 'world': 1,\n",
       " 'apart': 1,\n",
       " 'mind': 1,\n",
       " 'over': 1,\n",
       " 'beauty': 1,\n",
       " 'there': 1,\n",
       " 'beast': 1,\n",
       " 'heart': 1,\n",
       " 'instrumental': 1,\n",
       " 'interlude': 1,\n",
       " 'ooooooooh': 1,\n",
       " 'whoaoh': 1,\n",
       " 'night': 1,\n",
       " 'oohoh': 2,\n",
       " 'whoooa': 1,\n",
       " 'oh': 2,\n",
       " 'yeah': 2}"
      ]
     },
     "execution_count": 24,
     "metadata": {},
     "output_type": "execute_result"
    }
   ],
   "source": [
    "\n",
    "# Clean my Data\n",
    "\n",
    "cleaned_lyrics = lyrics.replace(\"\\n\", \" \").lower()\n",
    "from string import punctuation\n",
    "for punc in punctuation:\n",
    "    cleaned_lyrics = cleaned_lyrics.replace(punc, \"\")\n",
    "\n",
    "words = cleaned_lyrics.split(\" \")\n",
    "    # build your word_counter here\n",
    "# Your code here\n",
    "word_counter = {}\n",
    "for word in words:\n",
    "    word_counter[word] = word_counter.get(word,0) + 1\n",
    "word_counter"
   ]
  },
  {
   "cell_type": "code",
   "execution_count": 25,
   "metadata": {},
   "outputs": [],
   "source": [
    "# get actual word_counter here\n",
    "# just run this cell\n",
    "\n",
    "word_counter_test = sol.section1_partA(lyrics)"
   ]
  },
  {
   "cell_type": "code",
   "execution_count": 26,
   "metadata": {},
   "outputs": [
    {
     "name": "stdout",
     "output_type": "stream",
     "text": [
      "test passed\n"
     ]
    }
   ],
   "source": [
    "# Test your code here\n",
    "# just run this cell\n",
    "\n",
    "try:\n",
    "    assert word_counter==word_counter_test\n",
    "    print('test passed')\n",
    "except Exception as e:\n",
    "    print(\"word_counter does not equal word_counter_test\")"
   ]
  },
  {
   "cell_type": "markdown",
   "metadata": {},
   "source": [
    "## S01 - Part B"
   ]
  },
  {
   "cell_type": "code",
   "execution_count": 31,
   "metadata": {},
   "outputs": [
    {
     "name": "stdout",
     "output_type": "stream",
     "text": [
      " The most common word is she \n"
     ]
    }
   ],
   "source": [
    "# Find the word with the highest counts\n",
    "# Your code here\n",
    "\n",
    "word_count_tuple_list = list(word_counter.items())\n",
    "ordered_words = sorted(word_count_tuple_list, key=lambda tup: tup[1], reverse=True)\n",
    "most_common_word = ordered_words[0][0]\n",
    "print(f\" The most common word is {most_common_word} \")\n"
   ]
  },
  {
   "cell_type": "code",
   "execution_count": 32,
   "metadata": {},
   "outputs": [],
   "source": [
    "# get actual most_common_word\n",
    "# just run this cell\n",
    "\n",
    "most_common_word_test = sol.section1_partB(lyrics)"
   ]
  },
  {
   "cell_type": "code",
   "execution_count": 33,
   "metadata": {},
   "outputs": [
    {
     "name": "stdout",
     "output_type": "stream",
     "text": [
      "test passed\n"
     ]
    }
   ],
   "source": [
    "# test your solution here\n",
    "# just run this cell\n",
    "\n",
    "try:\n",
    "    assert most_common_word==most_common_word_test\n",
    "    print('test passed')\n",
    "except Exception as e:\n",
    "    print(\"most_common_word does not equal most_common_word_test\")"
   ]
  },
  {
   "cell_type": "markdown",
   "metadata": {},
   "source": [
    "# Section 02: Mean and Standard Deviation\n",
    "using the dictionary `word_counter` from above, solve the following problems"
   ]
  },
  {
   "cell_type": "markdown",
   "metadata": {},
   "source": [
    "## S02 - Part A"
   ]
  },
  {
   "cell_type": "code",
   "execution_count": 46,
   "metadata": {},
   "outputs": [],
   "source": [
    "# calculate the mean word counts\n",
    "# Your code here\n",
    "# you can write a function or just do it outright. \n",
    "\n",
    "word_count_values = list(word_counter.values())\n",
    "n = len(word_count_values)\n",
    "mean_word_counts = sum(word_count_values)/n"
   ]
  },
  {
   "cell_type": "code",
   "execution_count": 47,
   "metadata": {},
   "outputs": [],
   "source": [
    "# get actual mean word counts\n",
    "# just run this cell\n",
    "\n",
    "mean_word_counts_test = sol.section2_partA(lyrics)"
   ]
  },
  {
   "cell_type": "code",
   "execution_count": 48,
   "metadata": {},
   "outputs": [
    {
     "name": "stdout",
     "output_type": "stream",
     "text": [
      "test passed\n"
     ]
    }
   ],
   "source": [
    "# test your solution here\n",
    "# just run this cell\n",
    "\n",
    "try:\n",
    "    assert mean_word_counts==mean_word_counts_test\n",
    "    print('test passed')\n",
    "except Exception as e:\n",
    "    print(\"mean_word_counts does not equal mean_word_counts_test\")"
   ]
  },
  {
   "cell_type": "markdown",
   "metadata": {},
   "source": [
    "## S02 - Part B"
   ]
  },
  {
   "cell_type": "code",
   "execution_count": 49,
   "metadata": {},
   "outputs": [],
   "source": [
    "# calculate the standard deviation of the word_counts\n",
    "# you can write a function or just calculate it out right.  It's up to you.\n",
    "# Your code here\n",
    "std_word_counts_sum = 0\n",
    "\n",
    "for count in word_count_values:\n",
    "    std_word_counts_sum += (count-mean_word_counts)**2\n",
    "    \n",
    "import math    \n",
    "std_word_counts = math.sqrt((1/n)*std_word_counts_sum)"
   ]
  },
  {
   "cell_type": "code",
   "execution_count": 50,
   "metadata": {},
   "outputs": [],
   "source": [
    "# get actual standard deviation of word counts\n",
    "# just run this cell\n",
    "\n",
    "std_word_counts_test = sol.section2_partB(lyrics)"
   ]
  },
  {
   "cell_type": "code",
   "execution_count": 51,
   "metadata": {},
   "outputs": [
    {
     "name": "stdout",
     "output_type": "stream",
     "text": [
      "test passed\n"
     ]
    }
   ],
   "source": [
    "# test your solution here\n",
    "# just run this cell\n",
    "\n",
    "try:\n",
    "    assert std_word_counts==std_word_counts_test\n",
    "    print('test passed')\n",
    "except Exception as e:\n",
    "    print(\"std_word_counts does not equal std_word_counts_test\")"
   ]
  },
  {
   "cell_type": "markdown",
   "metadata": {},
   "source": [
    "# Section03 - Functions"
   ]
  },
  {
   "cell_type": "markdown",
   "metadata": {},
   "source": [
    "## S03 - Part A"
   ]
  },
  {
   "cell_type": "code",
   "execution_count": 70,
   "metadata": {},
   "outputs": [],
   "source": [
    "# Your code here\n",
    "# # write the function below\n",
    "#     \"\"\"\n",
    "#     this function should count\n",
    "#     the number of odds in a list\n",
    "#     then do the following calculation for every odd\n",
    "#     - multiply each odd by 3\n",
    "#     - add 1 to each odd number\n",
    "#     return the sum of all of these numbers\n",
    "#     \"\"\"\n",
    "def transform_odds(lst):\n",
    "    myoutput = 0\n",
    "    for number in lst:\n",
    "        if number%2 != 0:\n",
    "            myoutput += number*3 + 1\n",
    "    return myoutput"
   ]
  },
  {
   "cell_type": "code",
   "execution_count": 71,
   "metadata": {},
   "outputs": [],
   "source": [
    "# run cell to generate a list of 100 random numbers\n",
    "# just run this cell\n",
    "\n",
    "import random\n",
    "random_nums = [random.randint(0, 1000) for i in range(100)]"
   ]
  },
  {
   "cell_type": "code",
   "execution_count": 72,
   "metadata": {},
   "outputs": [],
   "source": [
    "# run this cell to transform the random_numbers and store them to transformed_odds\n",
    "# just run this cell\n",
    "\n",
    "transformed_odds = transform_odds(random_nums)"
   ]
  },
  {
   "cell_type": "code",
   "execution_count": 73,
   "metadata": {},
   "outputs": [],
   "source": [
    "# run this cell to get the actual value of transformed odds\n",
    "# just run this cell\n",
    "\n",
    "transformed_odds_test = sol.section3_partA(random_nums)"
   ]
  },
  {
   "cell_type": "code",
   "execution_count": 74,
   "metadata": {},
   "outputs": [
    {
     "name": "stdout",
     "output_type": "stream",
     "text": [
      "test passed\n"
     ]
    }
   ],
   "source": [
    "# test your solution here\n",
    "# just run this cell\n",
    "\n",
    "try:\n",
    "    assert transformed_odds==transformed_odds_test\n",
    "    print('test passed')\n",
    "except Exception as e:\n",
    "    print(\"transformed_odds does not equal transformed_odds_test\")"
   ]
  },
  {
   "cell_type": "markdown",
   "metadata": {},
   "source": [
    "## S03 - Part B"
   ]
  },
  {
   "cell_type": "code",
   "execution_count": null,
   "metadata": {},
   "outputs": [],
   "source": [
    "# Your code here\n",
    "# write a function that checks the numbers in a list numbers\n",
    "# and checks if any of the numbers are divisible in a list of divisors divisors\n",
    "# it should return the all numbers in order they're given in the list \n",
    "# as a string\n",
    "\n",
    "def find_if_divisible(numbers, divisors):\n",
    "    \"\"\"\n",
    "    Example: \n",
    "    find_if_divisible([10, 19, 15, 20, 23, 30, 50, 100], [2, 8, 5])\n",
    "    should return \n",
    "    \"1015203050100\"\n",
    "    \n",
    "    since all of these numbers are divisible by at least one number in the divisors list\n",
    "    \"\"\"\n",
    "    pass"
   ]
  },
  {
   "cell_type": "code",
   "execution_count": null,
   "metadata": {},
   "outputs": [],
   "source": [
    "# run this cell to get a random set of numbers and divisors\n",
    "# just run this cell\n",
    "\n",
    "numbers = [random.randint(0, 50) for i in range(200)]\n",
    "divisors = [random.randint(1, 20) for i in range(5)]"
   ]
  },
  {
   "cell_type": "code",
   "execution_count": null,
   "metadata": {},
   "outputs": [],
   "source": [
    "# get your solution for the random numbers above\n",
    "# just run this cell\n",
    "\n",
    "number_string = find_if_divisible(numbers=numbers, divisors=divisors)"
   ]
  },
  {
   "cell_type": "code",
   "execution_count": null,
   "metadata": {},
   "outputs": [],
   "source": [
    "# get the actual solution for the random numbers above\n",
    "# just run this cell\n",
    "\n",
    "number_string_test = sol.section3_partB(numbers, divisors)"
   ]
  },
  {
   "cell_type": "code",
   "execution_count": null,
   "metadata": {},
   "outputs": [],
   "source": [
    "# test your solution here\n",
    "# just run this cell\n",
    "\n",
    "try:\n",
    "    assert number_string==number_string_test\n",
    "    print('passed test')\n",
    "except Exception as e:\n",
    "    print(\"number_string does not equal number_string_test\")"
   ]
  },
  {
   "cell_type": "markdown",
   "metadata": {},
   "source": [
    "# Level Up (Optional) Problems"
   ]
  },
  {
   "cell_type": "markdown",
   "metadata": {},
   "source": [
    "## Level Up - Part A"
   ]
  },
  {
   "cell_type": "code",
   "execution_count": null,
   "metadata": {},
   "outputs": [],
   "source": [
    "# Your code here\n",
    "\n",
    "def is_prime(n):\n",
    "    \"\"\"\n",
    "    write a function that determines if a number is prime\n",
    "    return True if n is prime else return False\n",
    "    \n",
    "    a number, n, is prime if the only divisors of the number are 1 and n \n",
    "    \"\"\"\n",
    "    pass"
   ]
  },
  {
   "cell_type": "code",
   "execution_count": null,
   "metadata": {},
   "outputs": [],
   "source": [
    "# run all tests in this cell\n",
    "# just run this cell\n",
    "\n",
    "random_nums = [random.randint(5, 50) for i in range(10)]\n",
    "for n in random_nums:\n",
    "    actual_result = is_prime(n)\n",
    "    expected_result = sol.levelUp_partA(n)\n",
    "    try:\n",
    "        assert expected_result==actual_result\n",
    "        print('test passed')\n",
    "    except Exception as e:\n",
    "        print(\"expected_result does not equal actual_result\")\n",
    "        print(f\"{n}  is {'NOT'*(1-expected_result)} prime but you returned {actual_result}\")"
   ]
  },
  {
   "cell_type": "markdown",
   "metadata": {},
   "source": [
    "## Level Up - Part B"
   ]
  },
  {
   "cell_type": "code",
   "execution_count": null,
   "metadata": {},
   "outputs": [],
   "source": [
    "# complete this function\n",
    "# Your code here\n",
    "\n",
    "def find_common_elements(lst1, lst2):\n",
    "    \"\"\"\n",
    "    write a function that returns a set\n",
    "    of all of the elements that are in both\n",
    "    lst 1 and lst2\n",
    "    \n",
    "    Example\n",
    "    input:\n",
    "       - lst1 = [2, 3, 5, 3, 5, 3]\n",
    "       - lst2 = [3, 5, 6]\n",
    "       \n",
    "    return:\n",
    "       - (3, 5)\n",
    "    \"\"\"\n",
    "    pass"
   ]
  },
  {
   "cell_type": "code",
   "execution_count": null,
   "metadata": {},
   "outputs": [],
   "source": [
    "# run the following tests\n",
    "# just run this cell\n",
    "\n",
    "for i in range(10):\n",
    "    lst1 = [random.randint(0, 100) for i in range(random.randint(15, 20))]\n",
    "    lst2 = [random.randint(0, 100) for i in range(random.randint(15, 20))]\n",
    "    actual_result = find_common_elements(lst1, lst2)\n",
    "    expected_result = sol.levelUp_partB(lst1, lst2)\n",
    "    try:\n",
    "        assert expected_result==actual_result\n",
    "        print('test passed')\n",
    "    except Exception as e:\n",
    "        print(\"expected_result does not equal actual_result\")"
   ]
  },
  {
   "cell_type": "markdown",
   "metadata": {},
   "source": [
    "## Level Up - Part C"
   ]
  },
  {
   "cell_type": "code",
   "execution_count": null,
   "metadata": {},
   "outputs": [],
   "source": [
    "# write a lambda function called rng that returns the range of a list of numbers\n",
    "# Your code here\n"
   ]
  },
  {
   "cell_type": "code",
   "execution_count": null,
   "metadata": {},
   "outputs": [],
   "source": [
    "# run these tests\n",
    "# just run this cell\n",
    "\n",
    "# this cell goes through 2 tests. \n",
    "# 1. did you write a function called rng that is actually a lambda function\n",
    "# 2. is written correctly\n",
    "try:\n",
    "    assert '<lambda>'==rng.__name__\n",
    "    print(\"rng is a lambda function! great work so far\")\n",
    "    print(\"running 10 random tests now\")\n",
    "    print(\"-\"*50)\n",
    "    for i in range(10):\n",
    "        lst = [random.randint(-1000, 1000) for i in range(random.randint(10, 20))]\n",
    "        actual_range = rng(lst)\n",
    "        expected_range = sol.levelUp_partC(lst)\n",
    "        try:\n",
    "            assert actual_range==expected_range\n",
    "            print('test passed, ranges are equal')\n",
    "        except:\n",
    "            print(\"expected_result does not equal actual_result\")\n",
    "    \n",
    "except:\n",
    "    print(\"rng is not a lambda function, must be a lambda function to continue\")"
   ]
  },
  {
   "cell_type": "code",
   "execution_count": null,
   "metadata": {},
   "outputs": [],
   "source": [
    "# Convert this notebook to README by running this cell!\n",
    "!jupyter nbconvert --to markdown assessment.ipynb && mv assessment.md README.md"
   ]
  }
 ],
 "metadata": {
  "kernelspec": {
   "display_name": "Python 3",
   "language": "python",
   "name": "python3"
  },
  "language_info": {
   "codemirror_mode": {
    "name": "ipython",
    "version": 3
   },
   "file_extension": ".py",
   "mimetype": "text/x-python",
   "name": "python",
   "nbconvert_exporter": "python",
   "pygments_lexer": "ipython3",
   "version": "3.6.9"
  }
 },
 "nbformat": 4,
 "nbformat_minor": 2
}
